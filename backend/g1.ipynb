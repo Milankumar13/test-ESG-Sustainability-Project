{
 "cells": [
  {
   "cell_type": "code",
   "execution_count": null,
   "id": "f5adc818",
   "metadata": {},
   "outputs": [],
   "source": [
    "import dash                     # pip install dash\n",
    "from dash.dependencies import Input, Output, State\n",
    "from dash import dcc\n",
    "\n",
    "#import dash_html_components as html\n",
    "from dash import html\n",
    "import plotly.express as px     # pip install plotly==5.2.2\n",
    "\n",
    "import pandas as pd"
   ]
  },
  {
   "cell_type": "code",
   "execution_count": null,
   "id": "1dfaecc7",
   "metadata": {},
   "outputs": [],
   "source": [
    "df = pd.read_csv('dummy_ind.csv')"
   ]
  },
  {
   "cell_type": "code",
   "execution_count": null,
   "id": "03bcf9b9",
   "metadata": {},
   "outputs": [],
   "source": [
    "df['avg_employee_t'] = df[\"employee_turnover\"].mean(axis=0)"
   ]
  },
  {
   "cell_type": "code",
   "execution_count": null,
   "id": "e1c12fa9",
   "metadata": {},
   "outputs": [],
   "source": [
    "df"
   ]
  },
  {
   "cell_type": "code",
   "execution_count": null,
   "id": "90d1f138",
   "metadata": {},
   "outputs": [],
   "source": [
    "newdf = df[['firms','years','employee_turnover', 'female_pct', 'female_pct']]"
   ]
  },
  {
   "cell_type": "code",
   "execution_count": null,
   "id": "147c3dc1",
   "metadata": {},
   "outputs": [],
   "source": [
    "newdf"
   ]
  },
  {
   "cell_type": "code",
   "execution_count": null,
   "id": "82b90024",
   "metadata": {},
   "outputs": [],
   "source": [
    "external_stylesheets = ['https://codepen.io/chriddyp/pen/bWLwgP.css']\n",
    "app = dash.Dash(__name__, external_stylesheets=external_stylesheets)\n",
    "\n",
    "\n",
    "indicators = ['employee_turnover', 'female_pct', 'female_mgmt_pct','employee_tenure','employee_parental_pct',\n",
    "             'employee_under30_pct','employee_over50_pct']\n",
    "\n",
    "app.layout = html.Div([\n",
    "    html.H1(\"German sustainablity model(Dash Plotly)\", style={\"textAlign\":\"center\"}),\n",
    "    html.Hr(),\n",
    "    html.P(\"Firms:\"),\n",
    "    html.Div(html.Div([\n",
    "        dcc.Dropdown(id='firms_list', clearable=False,\n",
    "                     value=[\"A\"],\n",
    "                     options=[{'label': x, 'value': x} for x in\n",
    "                              df[\"firms\"].unique()]),\n",
    "    ],className=\"two columns\"),className=\"row\"),\n",
    "    \n",
    "    html.P(\"Indicators\"),\n",
    "    html.Div(html.Div([\n",
    "        dcc.Dropdown(id='ind_list', clearable=False,\n",
    "                     value=\"employee_turnover\",\n",
    "                     options=[{'label': x, 'value': x} for x in\n",
    "                              indicators]),\n",
    "    ],className=\"two columns\"),className=\"row\"),\n",
    "\n",
    "    html.Div(id=\"output-div\", children=[]),\n",
    "])\n",
    "\n"
   ]
  },
  {
   "cell_type": "code",
   "execution_count": null,
   "id": "687afd71",
   "metadata": {},
   "outputs": [],
   "source": [
    "@app.callback(Output(component_id=\"output-div\", component_property=\"children\"),\n",
    "              \n",
    "              Input(component_id=\"firms_list\", component_property=\"value\"),\n",
    "              Input(component_id=\"ind_list\", component_property=\"value\")\n",
    "               \n",
    ")\n",
    "\n",
    "\n",
    "\n",
    "def make_graphs(firm_chosen,ind_chosen):\n",
    "    \n",
    "    df_hist = df[df[\"firms\"]==firm_chosen]\n",
    "   \n",
    "\n",
    "    # LINE CHART\n",
    "    df_line = df_hist.sort_values(by=[ind_chosen], ascending=True)\n",
    "    df_line = df_line.groupby(\n",
    "        [\"years\", ind_chosen]).size().reset_index(name=\"count\")\n",
    "    #print(df_line.head())\n",
    "    fig_line = px.line(df_line, x=\"years\", y=ind_chosen,\n",
    "                        markers=True)\n",
    "    \n",
    "    \n",
    "    \n",
    "    return [\n",
    "        \n",
    "         \n",
    "        html.Div([\n",
    "           html.Div([dcc.Graph(figure=fig_line)], className=\"eight columns\"),\n",
    "        ], className=\"row\"),\n",
    "        \n",
    "       \n",
    "        \n",
    "    ]\n",
    "\n",
    "\n",
    "if __name__ == '__main__':\n",
    "    app.run_server(debug=False)\n"
   ]
  }
 ],
 "metadata": {
  "kernelspec": {
   "display_name": "Python 3.8.10 64-bit",
   "language": "python",
   "name": "python3"
  },
  "language_info": {
   "codemirror_mode": {
    "name": "ipython",
    "version": 3
   },
   "file_extension": ".py",
   "mimetype": "text/x-python",
   "name": "python",
   "nbconvert_exporter": "python",
   "pygments_lexer": "ipython3",
   "version": "3.8.10"
  },
  "vscode": {
   "interpreter": {
    "hash": "916dbcbb3f70747c44a77c7bcd40155683ae19c65e1c03b4aa3499c5328201f1"
   }
  }
 },
 "nbformat": 4,
 "nbformat_minor": 5
}
